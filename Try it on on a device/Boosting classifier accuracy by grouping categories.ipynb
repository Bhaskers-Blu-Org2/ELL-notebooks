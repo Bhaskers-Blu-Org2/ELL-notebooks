{
 "cells": [
  {
   "cell_type": "markdown",
   "metadata": {
    "collapsed": true
   },
   "source": [
    "*This tutorial needs to be run on your local laptop or desktop machine. First, make sure you are running Jupyter on your laptop or desktop. Then, click the Download button above and save the .ipynb file to your Jupyter startup folder. After the download completes, the notebook will show up in the Jupyter Dashboard. Open the downloaded notebook from the Dashboard and carry on with the tutorial steps in that copy of the notebook. (You can run this tutorial in Azure, but the final steps will fail with a Timeout Error because the Raspberry Pi device cannot be reached on the network.)*\n",
    "\n",
    "\n",
    "# Boosting classifier accuracy by grouping categories\n",
    "\n",
    "In this tutorial, we will split the 1000 image-categories, which our model was trained to classify, into three disjoint sets: *dogs*, *cats*, and *other* (anything that isn't a dog or a cat). We will demonstrate how a classifier with low accuracy on the original 1000-class problem can have a sufficiently high accuracy on the simpler 3-class problem. We will write a Python script that reads images from the camera, barks when it sees a dog, and meows when it sees a cat.\n",
    "\n",
    "[![screenshot](https://microsoft.github.io/ELL/tutorials/Boosting-classifier-accuracy-by-grouping-categories/thumbnail.png)](https://youtu.be/SOmV8tzg_DU)\n",
    "\n",
    "#### Materials\n",
    "\n",
    "* Laptop or desktop computer\n",
    "* Raspberry Pi\n",
    "* Headphones or speakers for your Raspberry Pi\n",
    "* Raspberry Pi camera or USB webcam\n",
    "* *optional* - Active cooling attachment (see our [tutorial on cooling your Pi](https://microsoft.github.io/ELL/tutorials/Active-cooling-your-Raspberry-Pi-3/))\n",
    "\n",
    "#### Prerequisites\n",
    "\n",
    "* Install [Jupyter](http://jupyter.readthedocs.io/en/latest/install.html) on your computer\n",
    "* Follow the instructions for [setting up your Raspberry Pi](https://microsoft.github.io/ELL/tutorials/Setting-up-your-Raspberry-Pi).\n",
    "* Complete the basic tutorial, [Getting started with image classification on Raspberry Pi](https://notebooks.azure.com/microsoft-ell/libraries/tutorials/html/Getting%20started%20with%20image%20classification%20on%20the%20Raspberry%20Pi%20%28Part%201%29.ipynb), to learn how to use an ELL model from the Gallery.\n",
    "\n",
    "## Overview\n",
    "\n",
    "The pre-trained models in the [ELL gallery](https://microsoft.github.io/ELL/gallery/) are trained to identify 1000 different image categories (see the category names [here](https://github.com/Microsoft/ELL-models/raw/master/models/ILSVRC2012/categories.txt)). Often times, we are only interested in a subset of these categories and we don't require the fine-grained categorization that the model was trained to provide. For example, we may want to classify images of dogs versus images of cats, whereas the model is actually trained to distinguish between 6 different varieties of cat and 106 different varieties of dog.\n",
    "\n",
    "The dogs versus cats classification problem is easier than the original 1000 class problem, so a model that isn't very accurate on the original problem may be perfectly adequate on the simpler problem. Specifically, we will use a model that has an error rate of 64% on the 1000-class problem, but only 5% on the 3-class problem. We will build an application that grabs a frame from a camera, plays a barking sound when it recognizes one of the dog varieties, and plays a meow sound when it recognizes one of the cat varieties.\n",
    "\n",
    "As a pre-step, we need to install `ell` in the Azure virtual machine."
   ]
  },
  {
   "cell_type": "code",
   "execution_count": 1,
   "metadata": {},
   "outputs": [
    {
     "name": "stdout",
     "output_type": "stream",
     "text": [
      "Warning: 'conda-forge' already in 'channels' list, moving to the top\n",
      "Warning: 'microsoft-ell' already in 'channels' list, moving to the top\n",
      "Fetching package metadata ...............\n",
      "Solving package specifications: .\n",
      "\n",
      "# All requested packages already installed.\n",
      "# packages in environment at /home/nbcommon/anaconda3_431:\n",
      "#\n",
      "ell                       0.0.1            py36h0a24ad1_0    microsoft-ell\n"
     ]
    }
   ],
   "source": [
    "!conda config --prepend channels conda-forge --prepend channels microsoft-ell\n",
    "!conda install -y ell"
   ]
  },
  {
   "cell_type": "markdown",
   "metadata": {},
   "source": [
    "## Step 1: Deploy a pre-trained model on a Raspberry Pi\n",
    "\n",
    "Start by repeating the steps of the basic tutorial, [Getting Started with Image Classification on Raspberry Pi](https://notebooks.azure.com/microsoft-ell/libraries/tutorials/html/Getting%20started%20with%20image%20classification%20on%20the%20Raspberry%20Pi%20%28Part%201%29.ipynb). This time, specify the Gallery model by name, specifically one that is faster and less accurate. As before, download the model and compile it for the Raspberry Pi."
   ]
  },
  {
   "cell_type": "code",
   "execution_count": 1,
   "metadata": {},
   "outputs": [
    {
     "name": "stdout",
     "output_type": "stream",
     "text": [
      "compiling...\n",
      "compiled model up to date\n"
     ]
    },
    {
     "data": {
      "text/plain": [
       "'boosting/pi3/CMakeLists.txt'"
      ]
     },
     "execution_count": 1,
     "metadata": {},
     "output_type": "execute_result"
    }
   ],
   "source": [
    "from ell.pretrained_model import PretrainedModel\n",
    "import ell.platform\n",
    "\n",
    "pretrained_model = PretrainedModel('d_I160x160x3NCMNCMNBMNBMNBMNBMNC1A')\n",
    "pretrained_model.download('boosting', rename='model')\n",
    "pretrained_model.compile(ell.platform.PI3)"
   ]
  },
  {
   "cell_type": "markdown",
   "metadata": {},
   "source": [
    "We read in all 1000 labels from the label file. All the pet labels happen to be at the beginning of the list, in scattered locations. To keep things manageable, we consider only the first 240 labels, which includes all the dogs and cat."
   ]
  },
  {
   "cell_type": "code",
   "execution_count": 14,
   "metadata": {
    "scrolled": false
   },
   "outputs": [
    {
     "data": {
      "text/plain": [
       "['Chihuahua',\n",
       " 'Japanese spaniel',\n",
       " 'Maltese dog, Maltese terrier, Maltese',\n",
       " 'Pekinese, Pekingese, Peke',\n",
       " 'Shih-Tzu',\n",
       " 'Blenheim spaniel',\n",
       " 'papillon',\n",
       " 'toy terrier',\n",
       " 'Rhodesian ridgeback',\n",
       " 'Afghan hound, Afghan',\n",
       " 'basset, basset hound',\n",
       " 'beagle',\n",
       " 'bloodhound, sleuthhound',\n",
       " 'bluetick',\n",
       " 'black-and-tan coonhound',\n",
       " 'Walker hound, Walker foxhound',\n",
       " 'English foxhound',\n",
       " 'redbone',\n",
       " 'borzoi, Russian wolfhound',\n",
       " 'Irish wolfhound',\n",
       " 'Italian greyhound',\n",
       " 'whippet',\n",
       " 'Ibizan hound, Ibizan Podenco',\n",
       " 'Norwegian elkhound, elkhound',\n",
       " 'otterhound, otter hound',\n",
       " 'Saluki, gazelle hound',\n",
       " 'Scottish deerhound, deerhound',\n",
       " 'Weimaraner',\n",
       " 'Staffordshire bullterrier, Staffordshire bull terrier',\n",
       " 'American Staffordshire terrier, Staffordshire terrier, American pit bull terrier, pit bull terrier',\n",
       " 'Bedlington terrier',\n",
       " 'Border terrier',\n",
       " 'Kerry blue terrier',\n",
       " 'Irish terrier',\n",
       " 'Norfolk terrier',\n",
       " 'Norwich terrier',\n",
       " 'Yorkshire terrier',\n",
       " 'wire-haired fox terrier',\n",
       " 'Lakeland terrier',\n",
       " 'Sealyham terrier, Sealyham',\n",
       " 'Airedale, Airedale terrier',\n",
       " 'cairn, cairn terrier',\n",
       " 'Australian terrier',\n",
       " 'Dandie Dinmont, Dandie Dinmont terrier',\n",
       " 'Boston bull, Boston terrier',\n",
       " 'miniature schnauzer',\n",
       " 'giant schnauzer',\n",
       " 'standard schnauzer',\n",
       " 'Scotch terrier, Scottish terrier, Scottie',\n",
       " 'Tibetan terrier, chrysanthemum dog',\n",
       " 'silky terrier, Sydney silky',\n",
       " 'soft-coated wheaten terrier',\n",
       " 'West Highland white terrier',\n",
       " 'Lhasa, Lhasa apso',\n",
       " 'flat-coated retriever',\n",
       " 'curly-coated retriever',\n",
       " 'golden retriever',\n",
       " 'Labrador retriever',\n",
       " 'Chesapeake Bay retriever',\n",
       " 'German short-haired pointer',\n",
       " 'vizsla, Hungarian pointer',\n",
       " 'English setter',\n",
       " 'Irish setter, red setter',\n",
       " 'Gordon setter',\n",
       " 'Brittany spaniel',\n",
       " 'clumber, clumber spaniel',\n",
       " 'English springer, English springer spaniel',\n",
       " 'Welsh springer spaniel',\n",
       " 'cocker spaniel, English cocker spaniel, cocker',\n",
       " 'Sussex spaniel',\n",
       " 'Irish water spaniel',\n",
       " 'kuvasz',\n",
       " 'schipperke',\n",
       " 'groenendael',\n",
       " 'malinois',\n",
       " 'briard',\n",
       " 'kelpie',\n",
       " 'komondor',\n",
       " 'Old English sheepdog, bobtail',\n",
       " 'Shetland sheepdog, Shetland sheep dog, Shetland',\n",
       " 'collie',\n",
       " 'Border collie',\n",
       " 'Bouvier des Flandres, Bouviers des Flandres',\n",
       " 'Rottweiler',\n",
       " 'German shepherd, German shepherd dog, German police dog, alsatian',\n",
       " 'Doberman, Doberman pinscher',\n",
       " 'miniature pinscher',\n",
       " 'Greater Swiss Mountain dog',\n",
       " 'Bernese mountain dog',\n",
       " 'Appenzeller',\n",
       " 'EntleBucher',\n",
       " 'boxer',\n",
       " 'bull mastiff',\n",
       " 'Tibetan mastiff',\n",
       " 'French bulldog',\n",
       " 'Great Dane',\n",
       " 'Saint Bernard, St Bernard',\n",
       " 'Eskimo dog, husky',\n",
       " 'malamute, malemute, Alaskan malamute',\n",
       " 'Siberian husky',\n",
       " 'dalmatian, coach dog, carriage dog',\n",
       " 'affenpinscher, monkey pinscher, monkey dog',\n",
       " 'basenji',\n",
       " 'pug, pug-dog',\n",
       " 'Leonberg',\n",
       " 'Newfoundland, Newfoundland dog',\n",
       " 'Great Pyrenees',\n",
       " 'Samoyed, Samoyede',\n",
       " 'Pomeranian',\n",
       " 'chow, chow chow',\n",
       " 'keeshond',\n",
       " 'Brabancon griffon',\n",
       " 'Pembroke, Pembroke Welsh corgi',\n",
       " 'Cardigan, Cardigan Welsh corgi',\n",
       " 'toy poodle',\n",
       " 'miniature poodle',\n",
       " 'standard poodle',\n",
       " 'Mexican hairless',\n",
       " 'timber wolf, grey wolf, gray wolf, Canis lupus']"
      ]
     },
     "execution_count": 14,
     "metadata": {},
     "output_type": "execute_result"
    }
   ],
   "source": [
    "categories = [line.strip('\\n') for line in open('boosting/categories.txt', 'r').readlines()]\n",
    "dog_categories = categories[151:270]\n",
    "dog_categories"
   ]
  },
  {
   "cell_type": "markdown",
   "metadata": {},
   "source": [
    "## Choosing which categories are dogs and which are cats\n",
    "\n",
    "Since the dog and cat categories are scattered around the list, we have no choice but to choose them by hand. To make this job easier, ELL provides a handy user interface for choosing subsets of long lists, using Jupyter widgets. We'll create a checkbox for each category, so we can quickly scan the list and check the categories for dogs or cats. We'll save our checked selections to a file, otherwise our the selections would be cleared whenever we reload this notebook. (To make things extra easy, we download this file from the web, so the dogs are checked from the start.) To keep things tidy on the screen, we'll organize the checkboxes into columns, with a parameter to control how many appear per column."
   ]
  },
  {
   "cell_type": "code",
   "execution_count": 10,
   "metadata": {
    "scrolled": false
   },
   "outputs": [
    {
     "data": {
      "application/vnd.jupyter.widget-view+json": {
       "model_id": "866e8ae0c0984741966290897a1e922f",
       "version_major": 2,
       "version_minor": 0
      },
      "text/plain": [
       "A Jupyter Widget"
      ]
     },
     "metadata": {},
     "output_type": "display_data"
    }
   ],
   "source": [
    "from ell.util.choose_subset import choose_subset\n",
    "import urllib.request\n",
    "urllib.request.urlretrieve('https://microsoft.github.io/ELL/tutorials/Boosting-classifier-accuracy-by-grouping-categories/dogs.txt', 'boosting/dogs.txt')\n",
    "dog_categories = pet"
   ]
  },
  {
   "cell_type": "markdown",
   "metadata": {},
   "source": [
    "We similiarly create checkboxes to choose the \"cat\"egories."
   ]
  },
  {
   "cell_type": "code",
   "execution_count": 11,
   "metadata": {},
   "outputs": [
    {
     "data": {
      "application/vnd.jupyter.widget-view+json": {
       "model_id": "7479ece3b10745f8ae68ef2dc789c427",
       "version_major": 2,
       "version_minor": 0
      },
      "text/plain": [
       "A Jupyter Widget"
      ]
     },
     "metadata": {},
     "output_type": "display_data"
    }
   ],
   "source": [
    "urllib.request.urlretrieve('https://microsoft.github.io/ELL/tutorials/Boosting-classifier-accuracy-by-grouping-categories/cats.txt', 'boosting/cats.txt')\n",
    "cat_categories = choose_subset(pet_categories, 'boosting/cats.txt', 30)"
   ]
  },
  {
   "cell_type": "markdown",
   "metadata": {},
   "source": [
    "As a sanity check, let's make sure we didn't choose a category as both a dog and a cat. That is, the intersection of the set of dog categories and cat categories should be empty."
   ]
  },
  {
   "cell_type": "code",
   "execution_count": 12,
   "metadata": {},
   "outputs": [
    {
     "data": {
      "text/plain": [
       "True"
      ]
     },
     "execution_count": 12,
     "metadata": {},
     "output_type": "execute_result"
    }
   ],
   "source": [
    "not(dog_categories & cat_categories)  # should be True"
   ]
  },
  {
   "cell_type": "markdown",
   "metadata": {},
   "source": [
    "## Step 2: Write a script \n",
    "\n",
    "We will write a Python script that invokes the model on a Raspberry Pi, groups the categories as described above, and takes action if a dog or cat is recognized. ** As with the previous tutorial, change the `ip` and `user` arguments to your Raspberry Pi's IP address and your user name before running the code in the cell below. **"
   ]
  },
  {
   "cell_type": "code",
   "execution_count": null,
   "metadata": {
    "collapsed": true
   },
   "outputs": [],
   "source": [
    "%%rpi --user=pi --ip=157.54.152.78 --rpipath=/home/pi/mymodel --model=pretrained_model\n",
    "\n",
    "import cv2\n",
    "import numpy as np\n",
    "import urllib.request\n",
    "import tutorialHelpers as helpers\n",
    "import sys\n",
    "sys.path.append('build')\n",
    "import model\n",
    "\n"
   ]
  }
 ],
 "metadata": {
  "kernelspec": {
   "display_name": "Python 3.6",
   "language": "python",
   "name": "python36"
  },
  "language_info": {
   "codemirror_mode": {
    "name": "ipython",
    "version": 3
   },
   "file_extension": ".py",
   "mimetype": "text/x-python",
   "name": "python",
   "nbconvert_exporter": "python",
   "pygments_lexer": "ipython3",
   "version": "3.6.0"
  }
 },
 "nbformat": 4,
 "nbformat_minor": 2
}
