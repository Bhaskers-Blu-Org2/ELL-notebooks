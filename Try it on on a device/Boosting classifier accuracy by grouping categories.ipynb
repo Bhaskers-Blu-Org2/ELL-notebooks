{
 "cells": [
  {
   "cell_type": "markdown",
   "metadata": {
    "collapsed": true
   },
   "source": [
    "\n",
    "# Boosting classifier accuracy by grouping categories\n",
    "\n",
    "In this tutorial, we will split the 1000 image-categories, which our model was trained to classify, into three disjoint sets: *dogs*, *cats*, and *other* (anything that isn't a dog or a cat). We will demonstrate how a classifier with low accuracy on the original 1000-class problem can have a sufficiently high accuracy on the simpler 3-class problem. We will write a Python script that reads images from the camera, barks when it sees a dog, and meows when it sees a cat.\n",
    "\n",
    "[![screenshot](https://microsoft.github.io/ELL/tutorials/Boosting-classifier-accuracy-by-grouping-categories/thumbnail.png)](https://youtu.be/SOmV8tzg_DU)\n",
    "\n",
    "#### Materials\n",
    "\n",
    "* Laptop or desktop computer\n",
    "* Raspberry Pi\n",
    "* Headphones or speakers for your Raspberry Pi\n",
    "* Raspberry Pi camera or USB webcam\n",
    "* *optional* - Active cooling attachment (see our [tutorial on cooling your Pi](https://microsoft.github.io/ELL/tutorials/Active-cooling-your-Raspberry-Pi-3/))\n",
    "\n",
    "#### Prerequisites\n",
    "\n",
    "* Install [Jupyter](http://jupyter.readthedocs.io/en/latest/install.html) on your computer\n",
    "* Follow the instructions for [setting up your Raspberry Pi](https://microsoft.github.io/ELL/tutorials/Setting-up-your-Raspberry-Pi).\n",
    "* Complete the basic tutorial, [Getting started with image classification on Raspberry Pi](https://notebooks.azure.com/microsoft-ell/libraries/tutorials/html/Getting%20started%20with%20image%20classification%20on%20the%20Raspberry%20Pi%20%28Part%201%29.ipynb), to learn how to use an ELL model from the Gallery.\n",
    "\n",
    "## Overview\n",
    "\n",
    "The pre-trained models in the [ELL gallery](https://microsoft.github.io/ELL/gallery/) are trained to identify 1000 different image categories (see the category names [here](https://github.com/Microsoft/ELL-models/raw/master/models/ILSVRC2012/categories.txt)). Often times, we are only interested in a subset of these categories and we don't require the fine-grained categorization that the model was trained to provide. For example, we may want to classify images of dogs versus images of cats, whereas the model is actually trained to distinguish between 6 different varieties of cat and 106 different varieties of dog.\n",
    "\n",
    "The dogs versus cats classification problem is easier than the original 1000 class problem, so a model that isn't very accurate on the original problem may be perfectly adequate on the simpler problem. Specifically, we will use a model that has an error rate of 64% on the 1000-class problem, but only 5% on the 3-class problem. We will build an application that grabs a frame from a camera, plays a barking sound when it recognizes one of the dog varieties, and plays a meow sound when it recognizes one of the cat varieties.\n",
    "\n",
    "As a pre-step, we need to install `ell` in the Azure virtual machine."
   ]
  },
  {
   "cell_type": "code",
   "execution_count": 1,
   "metadata": {},
   "outputs": [
    {
     "name": "stdout",
     "output_type": "stream",
     "text": [
      "Warning: 'conda-forge' already in 'channels' list, moving to the top\n",
      "Warning: 'microsoft-ell' already in 'channels' list, moving to the top\n",
      "Fetching package metadata ...............\n",
      "Solving package specifications: .\n",
      "\n",
      "# All requested packages already installed.\n",
      "# packages in environment at /home/nbcommon/anaconda3_431:\n",
      "#\n",
      "ell                       0.0.1            py36h0a24ad1_0    microsoft-ell\n"
     ]
    }
   ],
   "source": [
    "!conda config --prepend channels conda-forge --prepend channels microsoft-ell\n",
    "!conda install -y ell"
   ]
  },
  {
   "cell_type": "markdown",
   "metadata": {},
   "source": [
    "## Step 1: Deploy a pre-trained model on a Raspberry Pi\n",
    "\n",
    "Start by repeating the steps of the basic tutorial, [Getting Started with Image Classification on Raspberry Pi](https://notebooks.azure.com/microsoft-ell/libraries/tutorials/html/Getting%20started%20with%20image%20classification%20on%20the%20Raspberry%20Pi%20%28Part%201%29.ipynb). This time, specify the Gallery model by name, specifically one that is faster and less accurate. As before, download the model and compile it for the Raspberry Pi."
   ]
  },
  {
   "cell_type": "code",
   "execution_count": 2,
   "metadata": {},
   "outputs": [
    {
     "name": "stdout",
     "output_type": "stream",
     "text": [
      "compiling...\n",
      "generating python interfaces for model in boosting\\pi3\n",
      "C:\\Users\\rdeline\\AppData\\Local\\Continuum\\Miniconda3\\Library\\bin\\swig -python -c++ -Fmicrosoft -py3 -outdir boosting\\pi3 -IC:\\ID\\ELL\\build\\interfaces\\python\\package\\ell/headers/common -IC:\\ID\\ELL\\build\\interfaces\\python\\package\\ell/headers/common/include -IC:\\ID\\ELL\\build\\interfaces\\python\\package\\ell/headers/emitters -o boosting\\pi3\\modelPYTHON_wrap.cxx boosting\\pi3\\model.i\n",
      "running opt...\n",
      "C:\\Users\\rdeline\\AppData\\Local\\Continuum\\Miniconda3\\Library\\bin\\opt boosting\\pi3\\model.bc -o boosting\\pi3\\model.opt.bc -O3\n",
      "running llc...\n",
      "C:\\Users\\rdeline\\AppData\\Local\\Continuum\\Miniconda3\\Library\\bin\\llc boosting\\pi3\\model.opt.bc -o boosting\\pi3\\model.obj -filetype=obj -O3 -mtriple=armv7-linux-gnueabihf -mcpu=cortex-a53 -relocation-model=pic\n"
     ]
    },
    {
     "data": {
      "text/plain": [
       "'boosting\\\\pi3\\\\CMakeLists.txt'"
      ]
     },
     "execution_count": 2,
     "metadata": {},
     "output_type": "execute_result"
    }
   ],
   "source": [
    "from ell.pretrained_model import PretrainedModel\n",
    "import ell.platform\n",
    "\n",
    "pretrained_model = PretrainedModel('d_I160x160x3NCMNCMNBMNBMNBMNBMNC1A')\n",
    "pretrained_model.download('boosting', rename='model')\n",
    "pretrained_model.compile(ell.platform.PI3)"
   ]
  },
  {
   "cell_type": "markdown",
   "metadata": {},
   "source": [
    "We read in all 1000 labels from the label file. All the pet labels happen to be at the beginning of the list, in scattered locations. To keep things manageable, we consider only the first 240 labels, which includes all the dogs and cat."
   ]
  },
  {
   "cell_type": "code",
   "execution_count": 3,
   "metadata": {
    "scrolled": false
   },
   "outputs": [],
   "source": [
    "categories = [line.strip('\\n') for line in open('boosting/categories.txt', 'r').readlines()]\n",
    "dogs = categories[151:270]\n",
    "cats = categories[281:294]"
   ]
  },
  {
   "cell_type": "markdown",
   "metadata": {},
   "source": [
    "## Step 2: Write a script \n",
    "\n",
    "We will write a Python script that invokes the model on a Raspberry Pi, groups the categories as described above, and takes action if a dog or cat is recognized. ** As with the previous tutorial, change the `ip` and `user` arguments to your Raspberry Pi's IP address and your user name before running the code in the cell below. **"
   ]
  },
  {
   "cell_type": "code",
   "execution_count": 4,
   "metadata": {},
   "outputs": [
    {
     "name": "stdout",
     "output_type": "stream",
     "text": [
      "Password on the Raspberry Pi ········\n"
     ]
    },
    {
     "data": {
      "application/vnd.jupyter.widget-view+json": {
       "model_id": "f05de4fc091a49bf8bbbc25b32574e50"
      }
     },
     "metadata": {},
     "output_type": "display_data"
    }
   ],
   "source": [
    "%%rpi --user=pi --ip=157.54.152.78 --rpipath=/home/pi/mymodel --model=pretrained_model\n",
    "\n",
    "import sys\n",
    "import os\n",
    "import numpy as np\n",
    "import cv2\n",
    "import time\n",
    "import tutorialHelpers as helpers\n",
    "import subprocess\n",
    "if (os.name == \"nt\"):\n",
    "    import winsound\n",
    "\n",
    "# import the ELL model's Python module\n",
    "import model1\n",
    "\n",
    "# Function to return an image from our camera using OpenCV\n",
    "def get_image_from_camera(camera):\n",
    "    if camera is not None:\n",
    "        # if predictor is too slow frames get buffered, this is designed to flush that buffer\n",
    "        ret, frame = camera.read()\n",
    "        if (not ret):\n",
    "            raise Exception('your capture device is not returning images')\n",
    "        return frame\n",
    "    return None\n",
    "\n",
    "# Return an array of strings corresponding to the model's recognized categories or classes.\n",
    "# The order of the strings in this file are expected to match the order of the\n",
    "# model's output predictions.\n",
    "def get_categories_from_file(fileName):\n",
    "    labels = []\n",
    "    with open(fileName) as f:\n",
    "        labels = f.read().splitlines()\n",
    "    return labels\n",
    "\n",
    "# Returns True if an element of the comma separated label `a` is an element of the comma separated label `b`\n",
    "def labels_match(a, b):\n",
    "    x = [s.strip().lower() for s in a.split(',')]\n",
    "    y = [s.strip().lower() for s in b.split(',')]\n",
    "    for w in x:\n",
    "        if (w in y):\n",
    "            return True\n",
    "    return False\n",
    "\n",
    "# Returns True if the label is in the set of labels\n",
    "def label_in_set(label, label_set):\n",
    "    for x in label_set:\n",
    "        if labels_match(label, x):\n",
    "            return True\n",
    "    return False\n",
    "\n",
    "# Declare variables that define where to find the sounds files we will play\n",
    "script_path = os.path.dirname(os.path.abspath(__file__))\n",
    "woofSound = os.path.join(script_path, \"woof.wav\")\n",
    "meowSound = os.path.join(script_path, \"meow.wav\")\n",
    "\n",
    "# Helper function to play a sound\n",
    "def play(filename):\n",
    "    if (os.name == \"nt\"):\n",
    "        winsound.PlaySound(filename, winsound.SND_FILENAME | winsound.SND_ASYNC)\n",
    "    else:\n",
    "        command = [\"aplay\", filename]\n",
    "        proc = subprocess.Popen(command, stdout=subprocess.PIPE, stderr=subprocess.PIPE, bufsize=0, universal_newlines = True)\n",
    "        proc.wait()\n",
    "\n",
    "# Helper function to decide what action to take when we detect a group\n",
    "def take_action(group):\n",
    "    if group == \"Dog\":\n",
    "        # A prediction in the dog category group was detected, play a `woof` sound\n",
    "        play(woofSound)\n",
    "    elif group == \"Cat\":\n",
    "        # A prediction in the cat category group was detected, play a `meow` sound\n",
    "        play(meowSound)\n",
    "\n",
    "# Open the video camera. To use a different camera, change the camera index.\n",
    "camera = cv2.VideoCapture(0)\n",
    "\n",
    "# Read the category labels\n",
    "categories = get_categories_from_file(args[0])\n",
    "dogs = categories[151:270]\n",
    "cats = categories[281:294]\n",
    "\n",
    "# Get the model's input dimensions. We'll use this information later to resize images appropriately.\n",
    "inputShape = model1.get_default_input_shape()\n",
    "\n",
    "# Create a vector to hold the model's output predictions\n",
    "outputShape = model1.get_default_output_shape()\n",
    "predictions = model1.FloatVector(outputShape.Size())\n",
    "\n",
    "# Declare variables to hold state that we use to ensure we play sounds on new recognition\n",
    "lastHist = None\n",
    "significantDiff = 5000\n",
    "lastPredictionTime = 0\n",
    "headerText = \"\"\n",
    "\n",
    "while (cv2.waitKey(1) == 0xFF):\n",
    "    # Get an image from the camera. If you'd like to use a different image, load the image from some other source.\n",
    "    image = get_image_from_camera(camera)\n",
    "\n",
    "    # Prepare the image to pass to the model. This helper:\n",
    "    # - crops and resizes the image maintaining proper aspect ratio\n",
    "    # - reorders the image channels if needed\n",
    "    # - returns the data as a ravelled numpy array of floats so it can be handed to the model\n",
    "    input = helpers.prepare_image_for_model(image, inputShape.columns, inputShape.rows)\n",
    "\n",
    "    # Get a histogram using OpenCV as a quick way to detect whether the image has changed significantly\n",
    "    hist = np.histogram(input,16,[0,256])[0]\n",
    "    diff = 1\n",
    "    if lastHist is None:\n",
    "        lastHist = hist           \n",
    "    else:\n",
    "        diff = max(lastHist - hist)\n",
    "\n",
    "    # Check whether the image has changed significantly and that enough time has passed\n",
    "    # since our last prediction to decide whether to predict again\n",
    "    now = time.time()\n",
    "    if diff >= significantDiff and now - lastPredictionTime > 2:\n",
    "        # Get the predicted classes using the model's predict function on the image input data. \n",
    "        # The predictions are returned as a vector with the probability that the image\n",
    "        # contains the class represented by that index.\n",
    "        model1.predict(input, predictions)\n",
    "\n",
    "        # Let's grab the value of the top prediction and its index, which represents the top most \n",
    "        # confident match and the class or category it belongs to.\n",
    "        topN = helpers.get_top_n_predictions(predictions, 1)\n",
    "\n",
    "        # See whether the prediction is in one of our groups\n",
    "        group = \"\"\n",
    "        caption = \"\"\n",
    "        label = \"\"\n",
    "        if len(topN) > 0:\n",
    "            top = topN[0]\n",
    "            label = categories[top[0]]\n",
    "            if label_in_set(label, dogs):\n",
    "                group = \"Dog\"\n",
    "            elif label_in_set(label, cats):\n",
    "                group = \"Cat\"\n",
    "\n",
    "        if not group == \"\":\n",
    "            # A group was detected, so take action\n",
    "            top = topN[0]\n",
    "            take_action(group)\n",
    "            headerText = \"(\" + str(int(top[1]*100)) + \"%) \" + group\n",
    "            lastPredictionTime = now\n",
    "            lastHist = hist\n",
    "        else:\n",
    "            # No group was detected\n",
    "            headerText = \"\"\n",
    "\n",
    "    if now - lastPredictionTime > 2:\n",
    "        # Reset the header text\n",
    "        headerText = \"\"\n",
    "\n",
    "    print(headerText)"
   ]
  },
  {
   "cell_type": "code",
   "execution_count": null,
   "metadata": {
    "collapsed": true
   },
   "outputs": [],
   "source": []
  }
 ],
 "metadata": {
  "kernelspec": {
   "display_name": "Python 3.6",
   "language": "python",
   "name": "python36"
  },
  "language_info": {
   "codemirror_mode": {
    "name": "ipython",
    "version": 3
   },
   "file_extension": ".py",
   "mimetype": "text/x-python",
   "name": "python",
   "nbconvert_exporter": "python",
   "pygments_lexer": "ipython3",
   "version": "3.6.0"
  }
 },
 "nbformat": 4,
 "nbformat_minor": 2
}
