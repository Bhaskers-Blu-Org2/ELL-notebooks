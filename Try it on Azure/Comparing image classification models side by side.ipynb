{
 "cells": [
  {
   "cell_type": "markdown",
   "metadata": {},
   "source": [
    "# Comparing image classification models side by side\n",
    "\n",
    "In this tutorial, we will download two models from the [ELL gallery](https://microsoft.github.io/ELL/gallery/) and run them side-by-side on a Raspberry Pi. Some of the models on the gallery are slower abd accurate, while others are faster but less accurate. Running two models as once allows us to get a sense of their relative speeds and accuracies. Specifically, we will compare a standard (real valued) Convolutional Neural Network to a Neural Network that contains binarized layers. The binarized model is smaller and faster, but less accurate. \n",
    "\n",
    "![screenshot](https://microsoft.github.io/ELL/tutorials/Comparing-Image-Classification-models-side-by-side-on-the-Raspberry-Pi/Screenshot.jpg)\n"
   ]
  },
  {
   "cell_type": "markdown",
   "metadata": {},
   "source": [
    "We start by installing the `ell` package."
   ]
  },
  {
   "cell_type": "code",
   "execution_count": null,
   "metadata": {
    "collapsed": true
   },
   "outputs": [],
   "source": [
    "!conda config --prepend channels conda-forge --prepend channels microsoft-ell\n",
    "!conda install -y ell"
   ]
  },
  {
   "cell_type": "markdown",
   "metadata": {},
   "source": [
    "Start by loading and building two models, one a real-valued ELL model, one a binarized ELL model."
   ]
  },
  {
   "cell_type": "code",
   "execution_count": null,
   "metadata": {
    "collapsed": true
   },
   "outputs": [],
   "source": [
    "from ell.pretrained_model import PretrainedModel\n",
    "import ell.platform\n",
    "\n",
    "pretrained1 = PretrainedModel('d_I160x160x3CMCMCMCMCMCMC1A')\n",
    "pretrained1.download('comparing', rename='model1')\n",
    "pretrained1.build()"
   ]
  },
  {
   "cell_type": "code",
   "execution_count": null,
   "metadata": {
    "collapsed": true
   },
   "outputs": [],
   "source": [
    "pretrained2 = PretrainedModel('d_I160x160x3NCMNCMNBMNBMNBMNBMNC1A')\n",
    "pretrained2.download('comparing', rename='model2')\n",
    "categories = [line.strip('\\n') for line in open('comparing/categories.txt', 'r').readlines()]\n",
    "pretrained2.build()"
   ]
  },
  {
   "cell_type": "markdown",
   "metadata": {},
   "source": [
    "Next, load both models."
   ]
  },
  {
   "cell_type": "code",
   "execution_count": null,
   "metadata": {
    "collapsed": true
   },
   "outputs": [],
   "source": [
    "model1 = pretrained1.load()\n",
    "model2 = pretrained2.load()\n",
    "predictions = model1.FloatVector(model.get_default_output_shape().Size())"
   ]
  },
  {
   "cell_type": "markdown",
   "metadata": {},
   "source": [
    "Both models take the same size input, so prepare a test image to pass to the `predict` method of each model."
   ]
  },
  {
   "cell_type": "code",
   "execution_count": null,
   "metadata": {
    "collapsed": true
   },
   "outputs": [],
   "source": [
    "import urllib.request\n",
    "testurl = \"https://upload.wikimedia.org/wikipedia/commons/7/73/07-08_Chevrolet_Suburban_LT.jpg\"\n",
    "\n",
    "import urllib.request\n",
    "import cv2\n",
    "import numpy as np\n",
    "urllib.request.urlretrieve(testurl, 'comparing/testimage.jpg')\n",
    "image = cv2.imread('comparing/testimage.jpg')\n",
    "from IPython.display import Image\n",
    "display(Image('comparing/testimage.jpg'))\n",
    "\n",
    "input = pretrained_model.prepare_image(image)"
   ]
  },
  {
   "cell_type": "markdown",
   "metadata": {},
   "source": [
    "Run the `predict` to use each model to predict the image category. Use the %time magic to report how long it takes to run the cell code. "
   ]
  },
  {
   "cell_type": "code",
   "execution_count": null,
   "metadata": {
    "collapsed": true
   },
   "outputs": [],
   "source": [
    "%time\n",
    "model1.predict(input, predictions)\n",
    "top5 = helpers.get_top_n_predictions(predictions, 5)\n",
    "print(\"\".join([\"(\" + str(int(conf * 100)) + \"%) \" + categories[index] for (index, conf) in top5]))"
   ]
  },
  {
   "cell_type": "markdown",
   "metadata": {},
   "source": [
    "Repeat the same step for the second model."
   ]
  },
  {
   "cell_type": "code",
   "execution_count": null,
   "metadata": {
    "collapsed": true
   },
   "outputs": [],
   "source": [
    "%time\n",
    "model2.predict(input, predictions)\n",
    "top5 = helpers.get_top_n_predictions(predictions, 5)\n",
    "print(\"\".join([\"(\" + str(int(conf * 100)) + \"%) \" + categories[index] for (index, conf) in top5]))"
   ]
  },
  {
   "cell_type": "markdown",
   "metadata": {},
   "source": [
    "We would expect the second (binarized) model to be faster but less accurate than the first (real-valued) model."
   ]
  }
 ],
 "metadata": {
  "kernelspec": {
   "display_name": "Python 3",
   "language": "python",
   "name": "python3"
  },
  "language_info": {
   "codemirror_mode": {
    "name": "ipython",
    "version": 3
   },
   "file_extension": ".py",
   "mimetype": "text/x-python",
   "name": "python",
   "nbconvert_exporter": "python",
   "pygments_lexer": "ipython3",
   "version": "3.6.1"
  }
 },
 "nbformat": 4,
 "nbformat_minor": 2
}
